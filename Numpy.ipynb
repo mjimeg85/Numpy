{
 "cells": [
  {
   "cell_type": "markdown",
   "id": "31f28543",
   "metadata": {},
   "source": [
    "1. Crear un vector con valores dentro del rango 10 a 49\n"
   ]
  },
  {
   "cell_type": "code",
   "execution_count": 1,
   "id": "7c2707b6",
   "metadata": {},
   "outputs": [],
   "source": [
    "import numpy as np\n",
    "from scipy import stats"
   ]
  },
  {
   "cell_type": "code",
   "execution_count": 2,
   "id": "254fb7c1",
   "metadata": {},
   "outputs": [],
   "source": [
    "a= np.array ([11,15,23,25])"
   ]
  },
  {
   "cell_type": "code",
   "execution_count": 3,
   "id": "1031b7a7",
   "metadata": {},
   "outputs": [
    {
     "data": {
      "text/plain": [
       "array([11, 15, 23, 25])"
      ]
     },
     "execution_count": 3,
     "metadata": {},
     "output_type": "execute_result"
    }
   ],
   "source": [
    "a"
   ]
  },
  {
   "cell_type": "code",
   "execution_count": 4,
   "id": "dae2ff3a",
   "metadata": {},
   "outputs": [
    {
     "data": {
      "text/plain": [
       "array([10, 12, 14, 16, 18, 20, 22, 24, 26, 28, 30, 32, 34, 36, 38, 40, 42,\n",
       "       44, 46, 48])"
      ]
     },
     "execution_count": 4,
     "metadata": {},
     "output_type": "execute_result"
    }
   ],
   "source": [
    "np.arange(10, 49, 2)"
   ]
  },
  {
   "cell_type": "markdown",
   "id": "2f9af3dd",
   "metadata": {},
   "source": [
    "2.Invertir el vector creado en el ejercicio 1."
   ]
  },
  {
   "cell_type": "code",
   "execution_count": 5,
   "id": "088470fe",
   "metadata": {},
   "outputs": [
    {
     "data": {
      "text/plain": [
       "array([25, 23, 15, 11])"
      ]
     },
     "execution_count": 5,
     "metadata": {},
     "output_type": "execute_result"
    }
   ],
   "source": [
    "np.flip(a)"
   ]
  },
  {
   "cell_type": "code",
   "execution_count": 6,
   "id": "8ccfb2dd",
   "metadata": {},
   "outputs": [
    {
     "data": {
      "text/plain": [
       "array([25, 23, 15, 11])"
      ]
     },
     "execution_count": 6,
     "metadata": {},
     "output_type": "execute_result"
    }
   ],
   "source": [
    "a[::-1]"
   ]
  },
  {
   "cell_type": "markdown",
   "id": "ba2c61a5",
   "metadata": {},
   "source": [
    "3 .Crear una matriz de 3x3 con los valores de 0 a 8."
   ]
  },
  {
   "cell_type": "code",
   "execution_count": 7,
   "id": "d68270b3",
   "metadata": {},
   "outputs": [],
   "source": [
    "b=([0,1,2],[3,4,5],[6,7,8])"
   ]
  },
  {
   "cell_type": "code",
   "execution_count": 8,
   "id": "0a18d5f2",
   "metadata": {},
   "outputs": [
    {
     "data": {
      "text/plain": [
       "([0, 1, 2], [3, 4, 5], [6, 7, 8])"
      ]
     },
     "execution_count": 8,
     "metadata": {},
     "output_type": "execute_result"
    }
   ],
   "source": [
    "b"
   ]
  },
  {
   "cell_type": "code",
   "execution_count": 9,
   "id": "b6eafdb8",
   "metadata": {},
   "outputs": [
    {
     "name": "stdout",
     "output_type": "stream",
     "text": [
      "([0, 1, 2], [3, 4, 5], [6, 7, 8])\n"
     ]
    }
   ],
   "source": [
    "print(b)"
   ]
  },
  {
   "cell_type": "code",
   "execution_count": 10,
   "id": "17162839",
   "metadata": {},
   "outputs": [
    {
     "data": {
      "text/plain": [
       "(3, 3)"
      ]
     },
     "execution_count": 10,
     "metadata": {},
     "output_type": "execute_result"
    }
   ],
   "source": [
    "np.shape(b)"
   ]
  },
  {
   "cell_type": "markdown",
   "id": "53107965",
   "metadata": {},
   "source": [
    "4. Encontrar los índices que no son ceros del arreglo\n",
    "[1,2,4,2,4,0,1,0,0,0,12,4,5,6,7,0]."
   ]
  },
  {
   "cell_type": "code",
   "execution_count": 11,
   "id": "4a0d696c",
   "metadata": {},
   "outputs": [],
   "source": [
    "c=np.array([1,2,4,2,4,0,1,0,0,0,12,4,5,6,7,0])"
   ]
  },
  {
   "cell_type": "code",
   "execution_count": 12,
   "id": "954bb20d",
   "metadata": {},
   "outputs": [
    {
     "data": {
      "text/plain": [
       "array([ 0,  1,  2,  3,  4,  6, 10, 11, 12, 13, 14])"
      ]
     },
     "execution_count": 12,
     "metadata": {},
     "output_type": "execute_result"
    }
   ],
   "source": [
    "np.where(c != 0)[0]"
   ]
  },
  {
   "cell_type": "markdown",
   "id": "87fc633d",
   "metadata": {},
   "source": [
    "5. Crear una matriz identidad de 6x6."
   ]
  },
  {
   "cell_type": "code",
   "execution_count": 13,
   "id": "af61adf8",
   "metadata": {},
   "outputs": [],
   "source": [
    "identity=np.identity(6)"
   ]
  },
  {
   "cell_type": "code",
   "execution_count": 14,
   "id": "0f8e0219",
   "metadata": {},
   "outputs": [
    {
     "data": {
      "text/plain": [
       "array([[1., 0., 0., 0., 0., 0.],\n",
       "       [0., 1., 0., 0., 0., 0.],\n",
       "       [0., 0., 1., 0., 0., 0.],\n",
       "       [0., 0., 0., 1., 0., 0.],\n",
       "       [0., 0., 0., 0., 1., 0.],\n",
       "       [0., 0., 0., 0., 0., 1.]])"
      ]
     },
     "execution_count": 14,
     "metadata": {},
     "output_type": "execute_result"
    }
   ],
   "source": [
    "identity"
   ]
  },
  {
   "cell_type": "markdown",
   "id": "6a54522f",
   "metadata": {},
   "source": [
    "6. Encontrar los índices de los valores mínimos y máximos de la matriz creada en\n",
    "el ejercicio 3."
   ]
  },
  {
   "cell_type": "code",
   "execution_count": 15,
   "id": "c5f63bd4",
   "metadata": {},
   "outputs": [
    {
     "data": {
      "text/plain": [
       "8"
      ]
     },
     "execution_count": 15,
     "metadata": {},
     "output_type": "execute_result"
    }
   ],
   "source": [
    "np.argmax(b)"
   ]
  },
  {
   "cell_type": "code",
   "execution_count": 16,
   "id": "ed139a1d",
   "metadata": {},
   "outputs": [
    {
     "data": {
      "text/plain": [
       "0"
      ]
     },
     "execution_count": 16,
     "metadata": {},
     "output_type": "execute_result"
    }
   ],
   "source": [
    "np.argmin(b)\n"
   ]
  },
  {
   "cell_type": "markdown",
   "id": "9de47a7f",
   "metadata": {},
   "source": [
    "7. Crear una matriz de 10x10 con 1 en los bordes y 0 en el interior (con rangos de\n",
    "índices)."
   ]
  },
  {
   "cell_type": "code",
   "execution_count": 17,
   "id": "0f6735bd",
   "metadata": {},
   "outputs": [],
   "source": [
    "d=np.ones((10,10))"
   ]
  },
  {
   "cell_type": "code",
   "execution_count": 18,
   "id": "bb7f0323",
   "metadata": {},
   "outputs": [
    {
     "data": {
      "text/plain": [
       "array([[1., 1., 1., 1., 1., 1., 1., 1., 1., 1.],\n",
       "       [1., 1., 1., 1., 1., 1., 1., 1., 1., 1.],\n",
       "       [1., 1., 1., 1., 1., 1., 1., 1., 1., 1.],\n",
       "       [1., 1., 1., 1., 1., 1., 1., 1., 1., 1.],\n",
       "       [1., 1., 1., 1., 1., 1., 1., 1., 1., 1.],\n",
       "       [1., 1., 1., 1., 1., 1., 1., 1., 1., 1.],\n",
       "       [1., 1., 1., 1., 1., 1., 1., 1., 1., 1.],\n",
       "       [1., 1., 1., 1., 1., 1., 1., 1., 1., 1.],\n",
       "       [1., 1., 1., 1., 1., 1., 1., 1., 1., 1.],\n",
       "       [1., 1., 1., 1., 1., 1., 1., 1., 1., 1.]])"
      ]
     },
     "execution_count": 18,
     "metadata": {},
     "output_type": "execute_result"
    }
   ],
   "source": [
    "d"
   ]
  },
  {
   "cell_type": "code",
   "execution_count": 19,
   "id": "ff00db10",
   "metadata": {},
   "outputs": [],
   "source": [
    "d[1:9,1:9]=0"
   ]
  },
  {
   "cell_type": "code",
   "execution_count": 20,
   "id": "a28f0369",
   "metadata": {},
   "outputs": [
    {
     "data": {
      "text/plain": [
       "array([[1., 1., 1., 1., 1., 1., 1., 1., 1., 1.],\n",
       "       [1., 0., 0., 0., 0., 0., 0., 0., 0., 1.],\n",
       "       [1., 0., 0., 0., 0., 0., 0., 0., 0., 1.],\n",
       "       [1., 0., 0., 0., 0., 0., 0., 0., 0., 1.],\n",
       "       [1., 0., 0., 0., 0., 0., 0., 0., 0., 1.],\n",
       "       [1., 0., 0., 0., 0., 0., 0., 0., 0., 1.],\n",
       "       [1., 0., 0., 0., 0., 0., 0., 0., 0., 1.],\n",
       "       [1., 0., 0., 0., 0., 0., 0., 0., 0., 1.],\n",
       "       [1., 0., 0., 0., 0., 0., 0., 0., 0., 1.],\n",
       "       [1., 1., 1., 1., 1., 1., 1., 1., 1., 1.]])"
      ]
     },
     "execution_count": 20,
     "metadata": {},
     "output_type": "execute_result"
    }
   ],
   "source": [
    "d"
   ]
  },
  {
   "cell_type": "markdown",
   "id": "5731a1c2",
   "metadata": {},
   "source": [
    "8. Crear una matriz de 5x5 con valores en los renglones que vayan de 0 a 4"
   ]
  },
  {
   "cell_type": "code",
   "execution_count": 21,
   "id": "c9f76a97",
   "metadata": {},
   "outputs": [
    {
     "data": {
      "text/plain": [
       "array([[0, 1, 2, 3, 4],\n",
       "       [0, 1, 2, 3, 4],\n",
       "       [0, 1, 2, 3, 4],\n",
       "       [0, 1, 2, 3, 4],\n",
       "       [0, 1, 2, 3, 4]])"
      ]
     },
     "execution_count": 21,
     "metadata": {},
     "output_type": "execute_result"
    }
   ],
   "source": [
    "np.full((5,5),(0,1,2,3,4))"
   ]
  },
  {
   "cell_type": "code",
   "execution_count": 22,
   "id": "7c25500b",
   "metadata": {},
   "outputs": [],
   "source": [
    "matrix=np.ones((5,5))"
   ]
  },
  {
   "cell_type": "code",
   "execution_count": 23,
   "id": "e8f6a509",
   "metadata": {},
   "outputs": [
    {
     "data": {
      "text/plain": [
       "array([[1., 1., 1., 1., 1.],\n",
       "       [1., 1., 1., 1., 1.],\n",
       "       [1., 1., 1., 1., 1.],\n",
       "       [1., 1., 1., 1., 1.],\n",
       "       [1., 1., 1., 1., 1.]])"
      ]
     },
     "execution_count": 23,
     "metadata": {},
     "output_type": "execute_result"
    }
   ],
   "source": [
    "matrix"
   ]
  },
  {
   "cell_type": "code",
   "execution_count": 24,
   "id": "cbcbc584",
   "metadata": {},
   "outputs": [],
   "source": [
    "matrix[:,:]=[0,1,2,3,4]"
   ]
  },
  {
   "cell_type": "code",
   "execution_count": 25,
   "id": "f1f91eed",
   "metadata": {},
   "outputs": [
    {
     "data": {
      "text/plain": [
       "array([[0., 1., 2., 3., 4.],\n",
       "       [0., 1., 2., 3., 4.],\n",
       "       [0., 1., 2., 3., 4.],\n",
       "       [0., 1., 2., 3., 4.],\n",
       "       [0., 1., 2., 3., 4.]])"
      ]
     },
     "execution_count": 25,
     "metadata": {},
     "output_type": "execute_result"
    }
   ],
   "source": [
    "matrix"
   ]
  },
  {
   "cell_type": "code",
   "execution_count": 66,
   "id": "88a042e5",
   "metadata": {},
   "outputs": [
    {
     "data": {
      "text/plain": [
       "array([[0, 1, 2, 3, 4],\n",
       "       [0, 1, 2, 3, 4],\n",
       "       [0, 1, 2, 3, 4],\n",
       "       [0, 1, 2, 3, 4],\n",
       "       [0, 1, 2, 3, 4]])"
      ]
     },
     "execution_count": 66,
     "metadata": {},
     "output_type": "execute_result"
    }
   ],
   "source": [
    "arr = np.array([[0,1,2,3,4]])\n",
    "m1=np.repeat(arr,5, axis=0)\n",
    "m1"
   ]
  },
  {
   "cell_type": "markdown",
   "id": "2876241b",
   "metadata": {},
   "source": [
    "9. Crear dos arreglos al azar A y B, verificar si son iguales."
   ]
  },
  {
   "cell_type": "code",
   "execution_count": 26,
   "id": "a2a8a211",
   "metadata": {},
   "outputs": [],
   "source": [
    "a=np.array([2,6,7,8,9,9])"
   ]
  },
  {
   "cell_type": "code",
   "execution_count": 27,
   "id": "b8af244b",
   "metadata": {},
   "outputs": [],
   "source": [
    "b=np.array([20,33,566,88,6,0])"
   ]
  },
  {
   "cell_type": "code",
   "execution_count": 28,
   "id": "5122bd24",
   "metadata": {},
   "outputs": [
    {
     "data": {
      "text/plain": [
       "array([False, False, False, False, False, False])"
      ]
     },
     "execution_count": 28,
     "metadata": {},
     "output_type": "execute_result"
    }
   ],
   "source": [
    "np.equal(a,b)"
   ]
  },
  {
   "cell_type": "markdown",
   "id": "9dc56272",
   "metadata": {},
   "source": [
    "10.Crear una matriz de 20x20 de valores aleatorios entre 1 y 100, luego indicar su\n",
    "media, su mediana, su moda y el desvío estándar. Los valores que den como\n",
    "resultado flotantes deben tener como máximo 2 decimales."
   ]
  },
  {
   "cell_type": "code",
   "execution_count": 29,
   "id": "c4ad0274",
   "metadata": {},
   "outputs": [],
   "source": [
    "mr=np.random.randint(1,100, size=(20,20))"
   ]
  },
  {
   "cell_type": "code",
   "execution_count": 30,
   "id": "530e43f8",
   "metadata": {},
   "outputs": [
    {
     "data": {
      "text/plain": [
       "array([[66, 13,  4, 92, 99, 57, 25, 69, 53, 45, 47,  3, 69, 44, 65,  8,\n",
       "        58, 67, 95, 61],\n",
       "       [24, 19, 36, 18, 23, 80, 63,  3, 95, 18, 30, 53, 28,  7, 32, 87,\n",
       "        44, 89,  3, 85],\n",
       "       [85, 78, 82, 69, 47,  3, 60, 71, 72, 62, 46, 85,  6, 36, 79, 71,\n",
       "        20, 29, 82, 83],\n",
       "       [52, 76, 23, 56, 42, 57, 53,  3, 77, 35, 26, 86, 76, 85, 69, 80,\n",
       "        53, 62, 54, 73],\n",
       "       [86, 47, 91, 30, 38, 26,  7, 37, 55, 41, 24, 78, 31, 22, 10, 61,\n",
       "        27, 25, 34, 98],\n",
       "       [91, 85, 25, 25, 48, 54, 19, 44, 47, 59, 91, 79,  5, 88, 19, 20,\n",
       "         6, 24, 88, 68],\n",
       "       [68, 39, 14, 48, 96, 70, 68, 49, 33, 36, 17, 74, 41, 78, 55, 44,\n",
       "        31, 97, 26, 21],\n",
       "       [28, 39,  5, 35, 94, 69, 89, 72, 76, 38, 77, 59, 11, 43, 32, 49,\n",
       "        29, 58, 93,  2],\n",
       "       [87, 33, 85, 16, 70, 63, 52, 89,  1,  2, 88, 94, 36, 58, 53, 26,\n",
       "        54, 12, 45, 25],\n",
       "       [81, 15, 46, 82, 16,  2, 99, 28, 62, 26, 64, 80, 51, 63,  2, 99,\n",
       "        83, 72, 28, 16],\n",
       "       [82, 18, 86, 46, 64, 51, 61, 23, 32, 82, 41, 86, 59, 87,  8, 99,\n",
       "        72, 42, 40, 60],\n",
       "       [39, 74, 18, 20, 40, 25, 91, 37, 73, 61, 44, 65, 83, 18, 14, 28,\n",
       "        29, 14, 60, 55],\n",
       "       [66,  6, 67, 66, 37, 92,  1, 44, 72, 97, 32, 18, 54, 74, 78, 95,\n",
       "        53, 45, 22, 21],\n",
       "       [88, 17, 92, 76, 61, 53, 64, 68,  5, 21, 80, 51, 62, 88, 93, 25,\n",
       "        91,  7, 10, 40],\n",
       "       [66, 34, 67, 13, 93, 96, 41, 70, 82, 54, 35, 46, 63, 55, 11, 24,\n",
       "        12, 56, 26, 95],\n",
       "       [72,  1, 90,  4, 85, 62, 19, 58, 94, 57, 40, 54, 34, 38, 27, 73,\n",
       "        30, 14, 95, 40],\n",
       "       [52, 78, 37, 64,  3, 61, 95, 31, 89, 28, 83, 47, 78,  9, 34, 12,\n",
       "        69, 35, 88,  5],\n",
       "       [ 5, 83, 74, 19,  9, 77, 55, 38,  4, 92, 45, 21, 11, 28, 33, 32,\n",
       "        61, 51, 81, 91],\n",
       "       [92, 25, 91, 23, 24, 28, 53, 75, 39, 92, 53, 79, 64, 60, 40, 41,\n",
       "        97, 75, 76, 17],\n",
       "       [ 5, 38, 62, 60, 15, 33,  2, 89, 96, 78, 99, 48, 39,  2, 41,  5,\n",
       "        87, 61, 43, 88]])"
      ]
     },
     "execution_count": 30,
     "metadata": {},
     "output_type": "execute_result"
    }
   ],
   "source": [
    "mr"
   ]
  },
  {
   "cell_type": "code",
   "execution_count": 31,
   "id": "9be8c317",
   "metadata": {},
   "outputs": [
    {
     "data": {
      "text/plain": [
       "50.6725"
      ]
     },
     "execution_count": 31,
     "metadata": {},
     "output_type": "execute_result"
    }
   ],
   "source": [
    "np.mean(mr)"
   ]
  },
  {
   "cell_type": "code",
   "execution_count": 32,
   "id": "f888921f",
   "metadata": {},
   "outputs": [
    {
     "data": {
      "text/plain": [
       "52.0"
      ]
     },
     "execution_count": 32,
     "metadata": {},
     "output_type": "execute_result"
    }
   ],
   "source": [
    "np.median(mr)"
   ]
  },
  {
   "cell_type": "code",
   "execution_count": 33,
   "id": "8fb61f82",
   "metadata": {},
   "outputs": [],
   "source": [
    "mode = stats.mode(mr)\n"
   ]
  },
  {
   "cell_type": "code",
   "execution_count": 34,
   "id": "f4311b9b",
   "metadata": {},
   "outputs": [
    {
     "name": "stdout",
     "output_type": "stream",
     "text": [
      "[[66 39 67  4  3 57 19  3 72 92 17 79 11 88 32 99 29 14 26 21]]\n"
     ]
    }
   ],
   "source": [
    "print(mode[0])"
   ]
  },
  {
   "cell_type": "code",
   "execution_count": 35,
   "id": "21a1b99f",
   "metadata": {},
   "outputs": [
    {
     "data": {
      "text/plain": [
       "28.129437316626156"
      ]
     },
     "execution_count": 35,
     "metadata": {},
     "output_type": "execute_result"
    }
   ],
   "source": [
    "np.std(mr)"
   ]
  },
  {
   "cell_type": "markdown",
   "id": "5665afe4",
   "metadata": {},
   "source": [
    "11.Crear dos arreglos de 4 elementos enteros y hacer las siguientes operaciones:\n",
    "sumarlos, restarle el segundo al primero, multiplicarlos, dividir el primero por el\n",
    "segundo. Hacerlo utilizando métodos."
   ]
  },
  {
   "cell_type": "code",
   "execution_count": 36,
   "id": "b4bb7dc2",
   "metadata": {},
   "outputs": [],
   "source": [
    "v1= np.array([2,6,8,9])"
   ]
  },
  {
   "cell_type": "code",
   "execution_count": 37,
   "id": "19b46bfe",
   "metadata": {},
   "outputs": [
    {
     "data": {
      "text/plain": [
       "array([2, 6, 8, 9])"
      ]
     },
     "execution_count": 37,
     "metadata": {},
     "output_type": "execute_result"
    }
   ],
   "source": [
    "v1"
   ]
  },
  {
   "cell_type": "code",
   "execution_count": 38,
   "id": "cb89c290",
   "metadata": {},
   "outputs": [],
   "source": [
    "v2=np.array([10,15,34,39])"
   ]
  },
  {
   "cell_type": "code",
   "execution_count": 39,
   "id": "c523003a",
   "metadata": {},
   "outputs": [
    {
     "data": {
      "text/plain": [
       "array([10, 15, 34, 39])"
      ]
     },
     "execution_count": 39,
     "metadata": {},
     "output_type": "execute_result"
    }
   ],
   "source": [
    "v2"
   ]
  },
  {
   "cell_type": "code",
   "execution_count": 40,
   "id": "65736bb5",
   "metadata": {},
   "outputs": [
    {
     "data": {
      "text/plain": [
       "array([12, 21, 42, 48])"
      ]
     },
     "execution_count": 40,
     "metadata": {},
     "output_type": "execute_result"
    }
   ],
   "source": [
    "np.add(v1,v2)"
   ]
  },
  {
   "cell_type": "code",
   "execution_count": 41,
   "id": "c46bc627",
   "metadata": {},
   "outputs": [
    {
     "data": {
      "text/plain": [
       "array([ -8,  -9, -26, -30])"
      ]
     },
     "execution_count": 41,
     "metadata": {},
     "output_type": "execute_result"
    }
   ],
   "source": [
    "np.subtract(v1,v2)"
   ]
  },
  {
   "cell_type": "code",
   "execution_count": 42,
   "id": "a2fe113d",
   "metadata": {},
   "outputs": [
    {
     "data": {
      "text/plain": [
       "array([ 20,  90, 272, 351])"
      ]
     },
     "execution_count": 42,
     "metadata": {},
     "output_type": "execute_result"
    }
   ],
   "source": [
    "np.multiply(v1,v2)"
   ]
  },
  {
   "cell_type": "code",
   "execution_count": 43,
   "id": "21e87c30",
   "metadata": {},
   "outputs": [
    {
     "data": {
      "text/plain": [
       "array([0.2       , 0.4       , 0.23529412, 0.23076923])"
      ]
     },
     "execution_count": 43,
     "metadata": {},
     "output_type": "execute_result"
    }
   ],
   "source": [
    "np.divide(v1,v2)"
   ]
  },
  {
   "cell_type": "markdown",
   "id": "bf5ad61f",
   "metadata": {},
   "source": [
    "12.Crear una matriz de 4x4 de valores aleatorios entre 1 y 10, y luego agregarle\n",
    "una fila de 0s al final."
   ]
  },
  {
   "cell_type": "code",
   "execution_count": 44,
   "id": "771a6008",
   "metadata": {},
   "outputs": [],
   "source": [
    "m5=np.random.randint(1,10, size=(4,4))"
   ]
  },
  {
   "cell_type": "code",
   "execution_count": 45,
   "id": "ab8a6d8d",
   "metadata": {},
   "outputs": [
    {
     "data": {
      "text/plain": [
       "array([[2, 4, 5, 5],\n",
       "       [8, 6, 7, 4],\n",
       "       [5, 4, 9, 7],\n",
       "       [6, 6, 6, 4]])"
      ]
     },
     "execution_count": 45,
     "metadata": {},
     "output_type": "execute_result"
    }
   ],
   "source": [
    "m5"
   ]
  },
  {
   "cell_type": "code",
   "execution_count": 46,
   "id": "6721c7b0",
   "metadata": {},
   "outputs": [],
   "source": [
    "m5[3:,::]=0"
   ]
  },
  {
   "cell_type": "code",
   "execution_count": 47,
   "id": "88997fec",
   "metadata": {},
   "outputs": [
    {
     "data": {
      "text/plain": [
       "array([[2, 4, 5, 5],\n",
       "       [8, 6, 7, 4],\n",
       "       [5, 4, 9, 7],\n",
       "       [0, 0, 0, 0]])"
      ]
     },
     "execution_count": 47,
     "metadata": {},
     "output_type": "execute_result"
    }
   ],
   "source": [
    "m5"
   ]
  },
  {
   "cell_type": "markdown",
   "id": "cdeb52aa",
   "metadata": {},
   "source": [
    "13.Crear dos arreglos de 6 elementos de valores aleatorios entre 0 y 1 y luego\n",
    "realizar las operaciones lógicas and y or con los métodos de NumPy."
   ]
  },
  {
   "cell_type": "code",
   "execution_count": 48,
   "id": "32275ca8",
   "metadata": {},
   "outputs": [],
   "source": [
    "m6=np.random.rand(6)"
   ]
  },
  {
   "cell_type": "code",
   "execution_count": 49,
   "id": "e9417a03",
   "metadata": {},
   "outputs": [
    {
     "data": {
      "text/plain": [
       "array([0.86734405, 0.99321616, 0.89170858, 0.10055365, 0.09776148,\n",
       "       0.24362231])"
      ]
     },
     "execution_count": 49,
     "metadata": {},
     "output_type": "execute_result"
    }
   ],
   "source": [
    "m6"
   ]
  },
  {
   "cell_type": "code",
   "execution_count": 50,
   "id": "d157a8e1",
   "metadata": {},
   "outputs": [],
   "source": [
    "m7=np.random.rand(6)"
   ]
  },
  {
   "cell_type": "code",
   "execution_count": 51,
   "id": "46bc4b3e",
   "metadata": {},
   "outputs": [
    {
     "data": {
      "text/plain": [
       "array([6.94859911e-01, 3.89690147e-01, 3.84575051e-01, 6.49090181e-04,\n",
       "       9.13327423e-01, 2.55061620e-02])"
      ]
     },
     "execution_count": 51,
     "metadata": {},
     "output_type": "execute_result"
    }
   ],
   "source": [
    "m7"
   ]
  },
  {
   "cell_type": "code",
   "execution_count": 52,
   "id": "95b46657",
   "metadata": {},
   "outputs": [
    {
     "data": {
      "text/plain": [
       "array([ True,  True,  True,  True,  True,  True])"
      ]
     },
     "execution_count": 52,
     "metadata": {},
     "output_type": "execute_result"
    }
   ],
   "source": [
    "np.logical_and(m6,m7)"
   ]
  },
  {
   "cell_type": "code",
   "execution_count": 53,
   "id": "0a955789",
   "metadata": {},
   "outputs": [
    {
     "data": {
      "text/plain": [
       "array([ True,  True,  True,  True,  True,  True])"
      ]
     },
     "execution_count": 53,
     "metadata": {},
     "output_type": "execute_result"
    }
   ],
   "source": [
    "np.logical_or(m6,m7)"
   ]
  },
  {
   "cell_type": "markdown",
   "id": "8fd00c19",
   "metadata": {},
   "source": [
    "14.Crear un arreglo de 4 elementos de entre 0 y 10, informar la cantidad de\n",
    "elementos que tiene y también cuántos bytes ocupa el arreglo."
   ]
  },
  {
   "cell_type": "code",
   "execution_count": 54,
   "id": "e57d8c87",
   "metadata": {},
   "outputs": [],
   "source": [
    "m5=np.random.randint(10, size=4)"
   ]
  },
  {
   "cell_type": "code",
   "execution_count": 55,
   "id": "f75ce2b5",
   "metadata": {},
   "outputs": [
    {
     "data": {
      "text/plain": [
       "array([2, 1, 8, 6])"
      ]
     },
     "execution_count": 55,
     "metadata": {},
     "output_type": "execute_result"
    }
   ],
   "source": [
    "m5"
   ]
  },
  {
   "cell_type": "code",
   "execution_count": 56,
   "id": "e838185a",
   "metadata": {},
   "outputs": [
    {
     "data": {
      "text/plain": [
       "4"
      ]
     },
     "execution_count": 56,
     "metadata": {},
     "output_type": "execute_result"
    }
   ],
   "source": [
    "np.size(m5)"
   ]
  },
  {
   "cell_type": "code",
   "execution_count": 57,
   "id": "60aaebb0",
   "metadata": {},
   "outputs": [
    {
     "data": {
      "text/plain": [
       "8"
      ]
     },
     "execution_count": 57,
     "metadata": {},
     "output_type": "execute_result"
    }
   ],
   "source": [
    "np.array(m5).itemsize"
   ]
  },
  {
   "cell_type": "code",
   "execution_count": 58,
   "id": "3105a1f4",
   "metadata": {},
   "outputs": [
    {
     "data": {
      "text/plain": [
       "32"
      ]
     },
     "execution_count": 58,
     "metadata": {},
     "output_type": "execute_result"
    }
   ],
   "source": [
    "np.array(m5).nbytes"
   ]
  },
  {
   "cell_type": "markdown",
   "id": "04800b9c",
   "metadata": {},
   "source": [
    "15.Crear una matriz que contenga información en distintos formatos, imprimir la info\n",
    "de cada formato a través del atributo."
   ]
  },
  {
   "cell_type": "code",
   "execution_count": null,
   "id": "d9e11da9",
   "metadata": {},
   "outputs": [],
   "source": []
  },
  {
   "cell_type": "code",
   "execution_count": null,
   "id": "7b40f59e",
   "metadata": {},
   "outputs": [],
   "source": []
  }
 ],
 "metadata": {
  "kernelspec": {
   "display_name": "Python 3",
   "language": "python",
   "name": "python3"
  },
  "language_info": {
   "codemirror_mode": {
    "name": "ipython",
    "version": 3
   },
   "file_extension": ".py",
   "mimetype": "text/x-python",
   "name": "python",
   "nbconvert_exporter": "python",
   "pygments_lexer": "ipython3",
   "version": "3.8.8"
  }
 },
 "nbformat": 4,
 "nbformat_minor": 5
}
